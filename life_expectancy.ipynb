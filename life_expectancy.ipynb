{
 "cells": [
  {
   "cell_type": "code",
   "execution_count": 1,
   "id": "2f0afe5a",
   "metadata": {},
   "outputs": [],
   "source": [
    "import pandas as pd\n",
    "\n",
    "df = pd.read_csv('life_expectancy.csv')"
   ]
  },
  {
   "cell_type": "code",
   "execution_count": 2,
   "id": "58e9ebac",
   "metadata": {},
   "outputs": [
    {
     "name": "stdout",
     "output_type": "stream",
     "text": [
      "       Country  Year      Status  Adult Mortality  infant deaths  Alcohol  \\\n",
      "0  Afghanistan  2015  Developing            263.0             62     0.01   \n",
      "1  Afghanistan  2014  Developing            271.0             64     0.01   \n",
      "2  Afghanistan  2013  Developing            268.0             66     0.01   \n",
      "3  Afghanistan  2012  Developing            272.0             69     0.01   \n",
      "4  Afghanistan  2011  Developing            275.0             71     0.01   \n",
      "\n",
      "   percentage expenditure  Hepatitis B  Measles    BMI   ...  \\\n",
      "0               71.279624         65.0      1154   19.1  ...   \n",
      "1               73.523582         62.0       492   18.6  ...   \n",
      "2               73.219243         64.0       430   18.1  ...   \n",
      "3               78.184215         67.0      2787   17.6  ...   \n",
      "4                7.097109         68.0      3013   17.2  ...   \n",
      "\n",
      "   Total expenditure  Diphtheria    HIV/AIDS         GDP  Population  \\\n",
      "0               8.16         65.0        0.1  584.259210  33736494.0   \n",
      "1               8.18         62.0        0.1  612.696514    327582.0   \n",
      "2               8.13         64.0        0.1  631.744976  31731688.0   \n",
      "3               8.52         67.0        0.1  669.959000   3696958.0   \n",
      "4               7.87         68.0        0.1   63.537231   2978599.0   \n",
      "\n",
      "    thinness  1-19 years   thinness 5-9 years  \\\n",
      "0                   17.2                 17.3   \n",
      "1                   17.5                 17.5   \n",
      "2                   17.7                 17.7   \n",
      "3                   17.9                 18.0   \n",
      "4                   18.2                 18.2   \n",
      "\n",
      "   Income composition of resources  Schooling  Life expectancy  \n",
      "0                            0.479       10.1             65.0  \n",
      "1                            0.476       10.0             59.9  \n",
      "2                            0.470        9.9             59.9  \n",
      "3                            0.463        9.8             59.5  \n",
      "4                            0.454        9.5             59.2  \n",
      "\n",
      "[5 rows x 22 columns]\n"
     ]
    }
   ],
   "source": [
    "print(df.head())"
   ]
  },
  {
   "cell_type": "code",
   "execution_count": null,
   "id": "6681f08f",
   "metadata": {},
   "outputs": [],
   "source": []
  }
 ],
 "metadata": {
  "kernelspec": {
   "display_name": "Python 3 (ipykernel)",
   "language": "python",
   "name": "python3"
  },
  "language_info": {
   "codemirror_mode": {
    "name": "ipython",
    "version": 3
   },
   "file_extension": ".py",
   "mimetype": "text/x-python",
   "name": "python",
   "nbconvert_exporter": "python",
   "pygments_lexer": "ipython3",
   "version": "3.9.12"
  }
 },
 "nbformat": 4,
 "nbformat_minor": 5
}
